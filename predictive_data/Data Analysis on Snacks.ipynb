{
 "cells": [
  {
   "cell_type": "code",
   "execution_count": 1,
   "metadata": {},
   "outputs": [],
   "source": [
    "import pandas as pd"
   ]
  },
  {
   "cell_type": "code",
   "execution_count": 2,
   "metadata": {
    "collapsed": true
   },
   "outputs": [],
   "source": [
    "import numpy as np"
   ]
  },
  {
   "cell_type": "code",
   "execution_count": 3,
   "metadata": {},
   "outputs": [],
   "source": [
    "import matplotlib.pyplot as plt\n",
    "plt.style.use('ggplot')"
   ]
  },
  {
   "cell_type": "code",
   "execution_count": 4,
   "metadata": {
    "collapsed": true
   },
   "outputs": [],
   "source": [
    "from pandas import ExcelWriter\n",
    "from pandas import ExcelFile"
   ]
  },
  {
   "cell_type": "code",
   "execution_count": 5,
   "metadata": {},
   "outputs": [
    {
     "name": "stdout",
     "output_type": "stream",
     "text": [
      "Index(['Snacks', 'Gross'], dtype='object')\n"
     ]
    }
   ],
   "source": [
    "df = pd.read_excel('snack_data.xlsx', sheetname='Sheet1')\n",
    "print(df.columns)"
   ]
  },
  {
   "cell_type": "code",
   "execution_count": 6,
   "metadata": {},
   "outputs": [
    {
     "name": "stdout",
     "output_type": "stream",
     "text": [
      "Potato Chips\n",
      "Dried Meat Snacks\n",
      "Tortilla/Tostada Chips\n",
      "Other salted snacks\n",
      "Snack nuts\n",
      "Cheese snacks\n",
      "Crackers\n",
      "Corn Snacks\n",
      "Sunflower/pumpkin seeds\n",
      "Pretzels\n",
      "Ready to eat popcorn/caramel corn\n",
      "Nutritional snacks/trail mixes\n",
      "Pork Rinds\n",
      "Chocolate covered salted snack\n"
     ]
    }
   ],
   "source": [
    "for i in df.index:\n",
    "    print(df['Snacks'][i])"
   ]
  },
  {
   "cell_type": "code",
   "execution_count": 7,
   "metadata": {
    "collapsed": true
   },
   "outputs": [],
   "source": [
    "# Handling bias in the morning to eat healthier options, http://www.nielsen.com/content/dam/corporate/us/en/reports-downloads/2014%20Reports/nielsen-global-snacking-report-september-2014.pdf?afflt=ntrt15340001&afflt_uid=0fTOVgMlJyk.6UMFGZodUq3CWg-xRCCIQMwz-RnGeYIz&afflt_uid_2=AFFLT_ID_2\n",
    "# Article predicts ~4.1% edge on healthier options in the morning which slowly declines to \n",
    "# -6 in the evening, which we define on the fifth sheet\n",
    "# Granola and power bars etc. etc."
   ]
  },
  {
   "cell_type": "code",
   "execution_count": 8,
   "metadata": {},
   "outputs": [
    {
     "name": "stdout",
     "output_type": "stream",
     "text": [
      "0                Salty Snacks\n",
      "1                Sweet Snacks\n",
      "2                Meaty Snacks\n",
      "3    Energy/Diet/Granola Bars\n",
      "Name: Snack, dtype: object\n"
     ]
    }
   ],
   "source": [
    "#numpy array for sums considered . \n",
    "snack_array = pd.read_excel('snack_data.xlsx', sheetname='Sheet2')\n",
    "print(snack_array['Snack'])"
   ]
  },
  {
   "cell_type": "code",
   "execution_count": 9,
   "metadata": {},
   "outputs": [
    {
     "name": "stdout",
     "output_type": "stream",
     "text": [
      "['Salty Snacks', 'Sweet Snacks', 'Meaty Snacks', 'Energy/Diet/Granola Bars']\n"
     ]
    }
   ],
   "source": [
    "snack_categories = snack_array['Snack'].values.tolist()\n",
    "print(snack_categories)"
   ]
  },
  {
   "cell_type": "code",
   "execution_count": 10,
   "metadata": {},
   "outputs": [
    {
     "name": "stdout",
     "output_type": "stream",
     "text": [
      "[501.3, 559.6, 222.9, 383.5]\n"
     ]
    }
   ],
   "source": [
    "snack_values = snack_array['Gross'].values.tolist()\n",
    "print(snack_values)"
   ]
  },
  {
   "cell_type": "code",
   "execution_count": 11,
   "metadata": {},
   "outputs": [
    {
     "name": "stdout",
     "output_type": "stream",
     "text": [
      "['Doritos Nacho Cheese tortilla chip (3.125-oz.)'\n",
      " \"Lay's Classic Potato Chip (3-oz.)\"\n",
      " 'Ruffles Cheddar & Sour Cream potato chip (2.625-oz.)'\n",
      " 'Doritos Cool Ranch tortilla chip (3.125-oz.)'\n",
      " \"Cheetos Flamin' Hot cheese snack (3.5-oz)\"\n",
      " 'Doritos Nacho Cheese tortilla chip (10.5-oz)'\n",
      " 'Funyuns regular onion ring (2.375-oz.)' 'Cheetos cheese snack (3.5-oz.)'\n",
      " \"Chesters Flamin' Hot corn & potato snack (4-oz.)\"\n",
      " 'Cheetos cheese snack (3.375-oz.)'\n",
      " \"Gardetto's Original Snack Mix (5.5-oz.)\"\n",
      " 'Sunshine Cheez-It Original Cracker (3-oz.)'\n",
      " 'Wonderful Pistachio Whole (5-oz.)'\n",
      " 'Combos Cheddar Cheese Pretzel (6.3-oz.)'\n",
      " 'Pringles Sour Cream & Onion Potato Crisp (5.96-oz.)'\n",
      " \"Lay's Barbecue Potato Chip (2.75-oz.)\"\n",
      " \"Lay's Sour Cream & Onion Potato Chip (2.75-oz.)\"\n",
      " \"Lay's Salt & Vinegar Potato Chip (2.75-oz.)\"\n",
      " 'Cheetos Flaming Hot Limon (3.5-oz.)' 'Cheetos Cheddar Jalapeno (3.5-0z.)'\n",
      " 'Doritos Cool Ranch (3.125-oz.)' 'Doritos Spicy Nacho (3.125-oz.)'\n",
      " 'Barcel Takis Fuego Hot Chili Pepper & Lime (4-oz.)']\n"
     ]
    }
   ],
   "source": [
    "salty_snack = pd.read_excel('snack_data.xlsx', sheetname='Sheet3')\n",
    "salty_snack_items = np.array(salty_snack['Snack'].values.tolist())\n",
    "salty_snack_values = np.array(salty_snack['Gross'].values.tolist())\n",
    "print(salty_snack_items)"
   ]
  },
  {
   "cell_type": "code",
   "execution_count": 12,
   "metadata": {},
   "outputs": [
    {
     "name": "stdout",
     "output_type": "stream",
     "text": [
      "['Bon Appetit Cheese & Berries Danish (5-oz.)'\n",
      " 'Bon Appetit Cheese Croissant Danish (5-oz.)'\n",
      " 'Bon Appetit Apple Danish (5-oz.)' 'Little Debbie Honey Bun (3.0-oz.)'\n",
      " 'Little Debbie Honey Bun (4.02-oz.)' \"Grandma's Peanut Butter (2.875-oz.)\"\n",
      " \"Grandma's Vanilla Creme (3.025-oz.)\"\n",
      " \"Grandma's Chocolate Chip (2.875-oz.)\" 'Little Debbie Nutty Bar (3-oz.)'\n",
      " 'Nabisco Mini Chips Ahoy! (3-oz.)' 'Hostess CupCakes (3.17-oz.)'\n",
      " 'Bon Appetit Banana Bread (4-oz.)' 'Hostess Twinkies (2.7-oz.)'\n",
      " 'Hostess Zingers Vanilla (3.81-oz.)'\n",
      " \"Hostess Zingers Devil's Food (3.81-oz.)\" 'Hostess Frosted Mini (3-oz.)'\n",
      " 'Little Debbie Frosted (2.5-oz.)' 'Hostess Crunch Mini (4-oz.)'\n",
      " 'Hostess Powdered Sugar Mini (3-oz.)'\n",
      " 'Little Debbie Glazed Donut Stick (2.75-oz.)']\n"
     ]
    }
   ],
   "source": [
    "sweet_snack = pd.read_excel('snack_data.xlsx', sheetname='Sheet4')\n",
    "sweet_snack_items = np.array(sweet_snack['Snack'].values.tolist())\n",
    "sweet_snack_values = np.array(sweet_snack['Gross'].values.tolist())\n",
    "print(sweet_snack_items)"
   ]
  },
  {
   "cell_type": "code",
   "execution_count": 13,
   "metadata": {},
   "outputs": [
    {
     "name": "stdout",
     "output_type": "stream",
     "text": [
      "['Slim Jim Giant Slim Original meat stick (0.97-oz.)'\n",
      " 'Slim Jim Monster Stick Original meat stick (1.94-oz.)'\n",
      " 'Jack Link’s Teriyaki beef jerky (2.85-oz.)' 'Valued Naturals'\n",
      " 'Jack Link’s Regular beef jerky (2.85-oz.)'\n",
      " 'Jack Link’s Teriyaki beefsteak (2-oz.)'\n",
      " 'Jack Link’s Original beefsteak (2-oz.)'\n",
      " 'Jack Links Peppered beef jerky (2.85-oz.)'\n",
      " 'Slim Jim Mild meat stick (0.97-oz.)'\n",
      " 'Jack Link’s Squatch Big Stick (2.2-oz.)'\n",
      " 'Jack Link’s All American Cheese and Beef combo pack (1.2-oz.)'\n",
      " \"Jack Link's Sweet and Hot (2.85-oz.)\"\n",
      " \"Jack Link's Teriyaki Beef Tender Bites (2.85-oz.)\"\n",
      " 'Slim Jim Original Twin Pack (1.94-oz.)'\n",
      " 'Slim Jim Giant Slim Mild (0.97-oz.)'\n",
      " 'Jack Link’s Original Squatch XXL (2.2-oz.)']\n"
     ]
    }
   ],
   "source": [
    "meat_snack = pd.read_excel('snack_data.xlsx', sheetname='Sheet5')\n",
    "meat_snack_items = np.array(meat_snack['Snack'].values.tolist())\n",
    "meat_snack_values = np.array(meat_snack['Gross'].values.tolist())\n",
    "print(meat_snack_items)"
   ]
  },
  {
   "cell_type": "code",
   "execution_count": 14,
   "metadata": {
    "collapsed": true
   },
   "outputs": [],
   "source": [
    "healthy_snack = pd.read_excel('snack_data.xlsx', sheetname='Sheet6')\n",
    "healthy_snack_items = np.array(healthy_snack['Snack'].values.tolist())\n",
    "healthy_snack_values = np.array(healthy_snack['Gross'].values.tolist())"
   ]
  },
  {
   "cell_type": "code",
   "execution_count": 15,
   "metadata": {},
   "outputs": [
    {
     "data": {
      "text/plain": [
       "0     Bon Appetit Cheese & Berries Danish (5-oz.)\n",
       "1     Bon Appetit Cheese Croissant Danish (5-oz.)\n",
       "2                Bon Appetit Apple Danish (5-oz.)\n",
       "3               Little Debbie Honey Bun (3.0-oz.)\n",
       "4              Little Debbie Honey Bun (4.02-oz.)\n",
       "5             Grandma's Peanut Butter (2.875-oz.)\n",
       "6             Grandma's Vanilla Creme (3.025-oz.)\n",
       "7            Grandma's Chocolate Chip (2.875-oz.)\n",
       "8                 Little Debbie Nutty Bar (3-oz.)\n",
       "9                Nabisco Mini Chips Ahoy! (3-oz.)\n",
       "10                    Hostess CupCakes (3.17-oz.)\n",
       "11               Bon Appetit Banana Bread (4-oz.)\n",
       "12                     Hostess Twinkies (2.7-oz.)\n",
       "13             Hostess Zingers Vanilla (3.81-oz.)\n",
       "14        Hostess Zingers Devil's Food (3.81-oz.)\n",
       "15                   Hostess Frosted Mini (3-oz.)\n",
       "16                Little Debbie Frosted (2.5-oz.)\n",
       "17                    Hostess Crunch Mini (4-oz.)\n",
       "18            Hostess Powdered Sugar Mini (3-oz.)\n",
       "19    Little Debbie Glazed Donut Stick (2.75-oz.)\n",
       "dtype: object"
      ]
     },
     "execution_count": 15,
     "metadata": {},
     "output_type": "execute_result"
    }
   ],
   "source": [
    "s = pd.Series(sweet_snack_items)\n",
    "s"
   ]
  },
  {
   "cell_type": "code",
   "execution_count": 16,
   "metadata": {},
   "outputs": [
    {
     "data": {
      "text/plain": [
       "DatetimeIndex(['2017-09-23', '2017-09-24', '2017-09-25', '2017-09-26',\n",
       "               '2017-09-27', '2017-09-28', '2017-09-29', '2017-09-30',\n",
       "               '2017-10-01', '2017-10-02', '2017-10-03', '2017-10-04',\n",
       "               '2017-10-05', '2017-10-06', '2017-10-07', '2017-10-08',\n",
       "               '2017-10-09', '2017-10-10', '2017-10-11', '2017-10-12',\n",
       "               '2017-10-13'],\n",
       "              dtype='datetime64[ns]', freq='D')"
      ]
     },
     "execution_count": 16,
     "metadata": {},
     "output_type": "execute_result"
    }
   ],
   "source": [
    "dates = pd.date_range('20170923', periods=21)\n",
    "dates"
   ]
  },
  {
   "cell_type": "code",
   "execution_count": 17,
   "metadata": {},
   "outputs": [
    {
     "name": "stdout",
     "output_type": "stream",
     "text": [
      "[ 52.3  40.7  37.3  30.3  29.2  22.9  19.6  18.   16.4  14.2  38.   30.1\n",
      "  25.7  20.8  20.   40.8  29.1  27.6  25.2  21.4]\n"
     ]
    }
   ],
   "source": [
    "print(sweet_snack_values)"
   ]
  },
  {
   "cell_type": "code",
   "execution_count": 18,
   "metadata": {},
   "outputs": [
    {
     "data": {
      "image/png": "[encoded data removed]",
      "text/plain": [
       "<matplotlib.figure.Figure at 0x10d6a2940>"
      ]
     },
     "metadata": {},
     "output_type": "display_data"
    }
   ],
   "source": [
    "plt.plot(dates.values.tolist())\n",
    "plt.show()"
   ]
  },
  {
   "cell_type": "code",
   "execution_count": 19,
   "metadata": {},
   "outputs": [
    {
     "name": "stdout",
     "output_type": "stream",
     "text": [
      "                                                    0     1\n",
      "0      Doritos Nacho Cheese tortilla chip (3.125-oz.)  45.4\n",
      "1                   Lay's Classic Potato Chip (3-oz.)  32.2\n",
      "2   Ruffles Cheddar & Sour Cream potato chip (2.62...  31.5\n",
      "3        Doritos Cool Ranch tortilla chip (3.125-oz.)  25.0\n",
      "4           Cheetos Flamin' Hot cheese snack (3.5-oz)  24.3\n",
      "5        Doritos Nacho Cheese tortilla chip (10.5-oz)  24.1\n",
      "6              Funyuns regular onion ring (2.375-oz.)  22.4\n",
      "7                      Cheetos cheese snack (3.5-oz.)  19.2\n",
      "8    Chesters Flamin' Hot corn & potato snack (4-oz.)  17.4\n",
      "9                    Cheetos cheese snack (3.375-oz.)  16.5\n",
      "10            Gardetto's Original Snack Mix (5.5-oz.)  32.3\n",
      "11         Sunshine Cheez-It Original Cracker (3-oz.)  31.3\n",
      "12                  Wonderful Pistachio Whole (5-oz.)  28.1\n",
      "13            Combos Cheddar Cheese Pretzel (6.3-oz.)  25.2\n",
      "14  Pringles Sour Cream & Onion Potato Crisp (5.96...  24.0\n",
      "15              Lay's Barbecue Potato Chip (2.75-oz.)  11.5\n",
      "16    Lay's Sour Cream & Onion Potato Chip (2.75-oz.)  11.4\n",
      "17        Lay's Salt & Vinegar Potato Chip (2.75-oz.)  10.9\n",
      "18                Cheetos Flaming Hot Limon (3.5-oz.)   9.1\n",
      "19                 Cheetos Cheddar Jalapeno (3.5-0z.)   8.6\n",
      "20                     Doritos Cool Ranch (3.125-oz.)  25.0\n",
      "21                    Doritos Spicy Nacho (3.125-oz.)  14.1\n",
      "22  Barcel Takis Fuego Hot Chili Pepper & Lime (4-...  11.8\n"
     ]
    }
   ],
   "source": [
    "# Salty Snacks\n",
    "saltyitems = pd.Series(data=salty_snack_items)\n",
    "saltyvals = pd.Series(data=salty_snack_values)\n",
    "saltyframe =[saltyitems, saltyvals]\n",
    "saltyresult = pd.concat(saltyframe, axis=1, ignore_index=True)\n",
    "print(saltyresult)"
   ]
  },
  {
   "cell_type": "code",
   "execution_count": 20,
   "metadata": {},
   "outputs": [
    {
     "name": "stdout",
     "output_type": "stream",
     "text": [
      "                                              0     1\n",
      "0   Bon Appetit Cheese & Berries Danish (5-oz.)  52.3\n",
      "1   Bon Appetit Cheese Croissant Danish (5-oz.)  40.7\n",
      "2              Bon Appetit Apple Danish (5-oz.)  37.3\n",
      "3             Little Debbie Honey Bun (3.0-oz.)  30.3\n",
      "4            Little Debbie Honey Bun (4.02-oz.)  29.2\n",
      "5           Grandma's Peanut Butter (2.875-oz.)  22.9\n",
      "6           Grandma's Vanilla Creme (3.025-oz.)  19.6\n",
      "7          Grandma's Chocolate Chip (2.875-oz.)  18.0\n",
      "8               Little Debbie Nutty Bar (3-oz.)  16.4\n",
      "9              Nabisco Mini Chips Ahoy! (3-oz.)  14.2\n",
      "10                  Hostess CupCakes (3.17-oz.)  38.0\n",
      "11             Bon Appetit Banana Bread (4-oz.)  30.1\n",
      "12                   Hostess Twinkies (2.7-oz.)  25.7\n",
      "13           Hostess Zingers Vanilla (3.81-oz.)  20.8\n",
      "14      Hostess Zingers Devil's Food (3.81-oz.)  20.0\n",
      "15                 Hostess Frosted Mini (3-oz.)  40.8\n",
      "16              Little Debbie Frosted (2.5-oz.)  29.1\n",
      "17                  Hostess Crunch Mini (4-oz.)  27.6\n",
      "18          Hostess Powdered Sugar Mini (3-oz.)  25.2\n",
      "19  Little Debbie Glazed Donut Stick (2.75-oz.)  21.4\n"
     ]
    }
   ],
   "source": [
    "# Sweet Snacks\n",
    "sweetitems = pd.Series(data=sweet_snack_items)\n",
    "sweetvals = pd.Series(data=sweet_snack_values)\n",
    "sweetframe =[sweetitems, sweetvals]\n",
    "sweetresult = pd.concat(sweetframe, axis=1, ignore_index=True)\n",
    "print(sweetresult)"
   ]
  },
  {
   "cell_type": "code",
   "execution_count": 21,
   "metadata": {},
   "outputs": [
    {
     "name": "stdout",
     "output_type": "stream",
     "text": [
      "                                                    0     1\n",
      "0   Slim Jim Giant Slim Original meat stick (0.97-...  17.1\n",
      "1   Slim Jim Monster Stick Original meat stick (1....  14.2\n",
      "2          Jack Link’s Teriyaki beef jerky (2.85-oz.)  12.1\n",
      "3                                     Valued Naturals  11.9\n",
      "4           Jack Link’s Regular beef jerky (2.85-oz.)  11.2\n",
      "5              Jack Link’s Teriyaki beefsteak (2-oz.)  10.0\n",
      "6              Jack Link’s Original beefsteak (2-oz.)   7.4\n",
      "7           Jack Links Peppered beef jerky (2.85-oz.)   6.6\n",
      "8                 Slim Jim Mild meat stick (0.97-oz.)   6.1\n",
      "9             Jack Link’s Squatch Big Stick (2.2-oz.)   5.7\n",
      "10  Jack Link’s All American Cheese and Beef combo...   5.5\n",
      "11               Jack Link's Sweet and Hot (2.85-oz.)  21.3\n",
      "12  Jack Link's Teriyaki Beef Tender Bites (2.85-oz.)  17.6\n",
      "13             Slim Jim Original Twin Pack (1.94-oz.)  28.1\n",
      "14                Slim Jim Giant Slim Mild (0.97-oz.)  24.7\n",
      "15         Jack Link’s Original Squatch XXL (2.2-oz.)  23.4\n"
     ]
    }
   ],
   "source": [
    "# Meaty Snacks\n",
    "meatitems = pd.Series(data=meat_snack_items)\n",
    "meatvals = pd.Series(data=meat_snack_values)\n",
    "meatframe =[meatitems, meatvals]\n",
    "meatresult = pd.concat(meatframe, axis=1, ignore_index=True)\n",
    "print(meatresult)"
   ]
  },
  {
   "cell_type": "code",
   "execution_count": 22,
   "metadata": {},
   "outputs": [
    {
     "name": "stdout",
     "output_type": "stream",
     "text": [
      "                                                    0     1\n",
      "0                               Clif (chocolate chip)  24.3\n",
      "1                Clif (white chocolate macadamia nut)  24.2\n",
      "2                        Clif (crunchy peanut butter)  22.0\n",
      "3            Kellogg's Special K Protein (strawberry)  20.5\n",
      "4                 Quest Bar Protein (cookies & cream)  19.5\n",
      "5   Kellogg's Special K Protein (chocolate peanut ...  15.8\n",
      "6     PowerBar Protein Plus (chocolate peanut butter)  15.6\n",
      "7        MET-Rx Big 100 (chocolate chip cookie dough)  14.2\n",
      "8       Kind Snack Bar (peanut butter dark chocolate)  13.4\n",
      "9       MET-Rx Big 100 Colossal (Super Cookie Crunch)  12.5\n",
      "10                       Kellogg's Rice Krispy Treats  70.7\n",
      "11                         Kellogg's Nutri-Grain Bars  29.7\n",
      "12                General Mills Golden Grahams Treats  10.1\n",
      "13         General Mills Cinnamon Toast Crunch Treats   9.1\n",
      "14                  General Mills Lucky Charms Treats   8.2\n",
      "15                Quest Bar Protein (cookies & cream)  19.5\n",
      "16    PowerBar Protein Plus (chocolate peanut butter)  15.6\n",
      "17       MET-Rx Big 100 (chocolate chip cookie dough)  14.2\n",
      "18      MET-Rx Big 100 Colossal (Super Cookie Crunch)  12.5\n",
      "19                    PowerBar Protein Plus (vanilla)  11.9\n"
     ]
    }
   ],
   "source": [
    "# Healthy Snacks\n",
    "healthyitems = pd.Series(data=healthy_snack_items)\n",
    "healthyvals = pd.Series(data=healthy_snack_values)\n",
    "healthyframe =[healthyitems, healthyvals]\n",
    "healthyresult = pd.concat(healthyframe, axis=1, ignore_index=True)\n",
    "print(healthyresult)"
   ]
  },
  {
   "cell_type": "code",
   "execution_count": 23,
   "metadata": {},
   "outputs": [
    {
     "data": {
      "image/png": "[encoded data removed]",
      "text/plain": [
       "<matplotlib.figure.Figure at 0x10d6e9358>"
      ]
     },
     "metadata": {},
     "output_type": "display_data"
    }
   ],
   "source": [
    "# Healthy Snacks\n",
    "saltyresult.plot()\n",
    "plt.show()"
   ]
  },
  {
   "cell_type": "code",
   "execution_count": 24,
   "metadata": {},
   "outputs": [
    {
     "data": {
      "image/png": "[encoded data removed]",
      "text/plain": [
       "<matplotlib.figure.Figure at 0x10d8a8438>"
      ]
     },
     "metadata": {},
     "output_type": "display_data"
    }
   ],
   "source": [
    "sweetresult.plot()\n",
    "plt.show()"
   ]
  },
  {
   "cell_type": "code",
   "execution_count": 25,
   "metadata": {},
   "outputs": [
    {
     "data": {
      "image/png": "[encoded data removed]",
      "text/plain": [
       "<matplotlib.figure.Figure at 0x10d9f7470>"
      ]
     },
     "metadata": {},
     "output_type": "display_data"
    }
   ],
   "source": [
    "meatresult.plot()\n",
    "plt.show()"
   ]
  },
  {
   "cell_type": "code",
   "execution_count": 26,
   "metadata": {},
   "outputs": [
    {
     "data": {
      "image/png": "[encoded data removed]",
      "text/plain": [
       "<matplotlib.figure.Figure at 0x10d8fceb8>"
      ]
     },
     "metadata": {},
     "output_type": "display_data"
    }
   ],
   "source": [
    "healthyresult.plot()\n",
    "plt.show()"
   ]
  },
  {
   "cell_type": "code",
   "execution_count": null,
   "metadata": {
    "collapsed": true
   },
   "outputs": [],
   "source": []
  }
 ],
 "metadata": {
  "kernelspec": {
   "display_name": "Python 3",
   "language": "python",
   "name": "python3"
  },
  "language_info": {
   "codemirror_mode": {
    "name": "ipython",
    "version": 3
   },
   "file_extension": ".py",
   "mimetype": "text/x-python",
   "name": "python",
   "nbconvert_exporter": "python",
   "pygments_lexer": "ipython3",
   "version": "3.6.2"
  }
 },
 "nbformat": 4,
 "nbformat_minor": 2
}
