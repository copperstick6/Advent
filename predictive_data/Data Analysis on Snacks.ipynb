{
 "cells": [
  {
   "cell_type": "code",
   "execution_count": 4,
   "metadata": {},
   "outputs": [],
   "source": [
    "import pandas as pd"
   ]
  },
  {
   "cell_type": "code",
   "execution_count": 5,
   "metadata": {
    "collapsed": true
   },
   "outputs": [],
   "source": [
    "import numpy as np"
   ]
  },
  {
   "cell_type": "code",
   "execution_count": 6,
   "metadata": {
    "collapsed": true
   },
   "outputs": [],
   "source": [
    "import matplotlib.pyplot as plt"
   ]
  },
  {
   "cell_type": "code",
   "execution_count": 7,
   "metadata": {
    "collapsed": true
   },
   "outputs": [],
   "source": [
    "from pandas import ExcelWriter\n",
    "from pandas import ExcelFile"
   ]
  },
  {
   "cell_type": "code",
   "execution_count": 10,
   "metadata": {},
   "outputs": [
    {
     "name": "stdout",
     "output_type": "stream",
     "text": [
      "Index(['Snacks', 'Gross'], dtype='object')\n"
     ]
    }
   ],
   "source": [
    "df = pd.read_excel('snack_data.xlsx', sheetname='Sheet1')\n",
    "print(df.columns)"
   ]
  },
  {
   "cell_type": "code",
   "execution_count": 11,
   "metadata": {},
   "outputs": [
    {
     "name": "stdout",
     "output_type": "stream",
     "text": [
      "Potato Chips\n",
      "Dried Meat Snacks\n",
      "Tortilla/Tostada Chips\n",
      "Other salted snacks\n",
      "Snack nuts\n",
      "Cheese snacks\n",
      "Crackers\n",
      "Corn Snacks\n",
      "Sunflower/pumpkin seeds\n",
      "Pretzels\n",
      "Ready to eat popcorn/caramel corn\n",
      "Nutritional snacks/trail mixes\n",
      "Pork Rinds\n",
      "Chocolate covered salted snack\n"
     ]
    }
   ],
   "source": [
    "for i in df.index:\n",
    "    print(df['Snacks'][i])"
   ]
  },
  {
   "cell_type": "code",
   "execution_count": 12,
   "metadata": {
    "collapsed": true
   },
   "outputs": [],
   "source": [
    "# Handling bias in the morning to eat healthier options, http://www.nielsen.com/content/dam/corporate/us/en/reports-downloads/2014%20Reports/nielsen-global-snacking-report-september-2014.pdf?afflt=ntrt15340001&afflt_uid=0fTOVgMlJyk.6UMFGZodUq3CWg-xRCCIQMwz-RnGeYIz&afflt_uid_2=AFFLT_ID_2\n",
    "# Article predicts ~4.1% edge on healthier options in the morning which slowly declines to \n",
    "# -6 in the evening, which we define on the fifth sheet\n",
    "# Granola and power bars etc. etc."
   ]
  },
  {
   "cell_type": "code",
   "execution_count": 23,
   "metadata": {},
   "outputs": [
    {
     "name": "stdout",
     "output_type": "stream",
     "text": [
      "0                Salty Snacks\n",
      "1                Sweet Snacks\n",
      "2                Meaty Snacks\n",
      "3    Energy/Diet/Granola Bars\n",
      "Name: Snack, dtype: object\n"
     ]
    }
   ],
   "source": [
    "#numpy array for sums considered . \n",
    "snack_array = pd.read_excel('snack_data.xlsx', sheetname='Sheet2')\n",
    "print(snack_array['Snack'])"
   ]
  },
  {
   "cell_type": "code",
   "execution_count": 26,
   "metadata": {},
   "outputs": [
    {
     "name": "stdout",
     "output_type": "stream",
     "text": [
      "['Salty Snacks', 'Sweet Snacks', 'Meaty Snacks', 'Energy/Diet/Granola Bars']\n"
     ]
    }
   ],
   "source": [
    "snack_categories = snack_array['Snack'].values.tolist()\n",
    "print(snack_categories)"
   ]
  },
  {
   "cell_type": "code",
   "execution_count": 27,
   "metadata": {},
   "outputs": [
    {
     "name": "stdout",
     "output_type": "stream",
     "text": [
      "[501.3, 559.6, 222.9, 383.5]\n"
     ]
    }
   ],
   "source": [
    "snack_values = snack_array['Gross'].values.tolist()\n",
    "print(snack_values)"
   ]
  },
  {
   "cell_type": "code",
   "execution_count": null,
   "metadata": {
    "collapsed": true
   },
   "outputs": [],
   "source": []
  }
 ],
 "metadata": {
  "kernelspec": {
   "display_name": "Python 3",
   "language": "python",
   "name": "python3"
  },
  "language_info": {
   "codemirror_mode": {
    "name": "ipython",
    "version": 3
   },
   "file_extension": ".py",
   "mimetype": "text/x-python",
   "name": "python",
   "nbconvert_exporter": "python",
   "pygments_lexer": "ipython3",
   "version": "3.6.2"
  }
 },
 "nbformat": 4,
 "nbformat_minor": 2
}
